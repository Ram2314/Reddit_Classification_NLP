{
 "cells": [
  {
   "cell_type": "markdown",
   "id": "06f51703",
   "metadata": {},
   "source": [
    "## Problem Stament: The goal of project was to create a classification model to predict where a post originated from r/cartoons or r/anime.\n",
    "\n",
    "1. We try to find the most important words in classifying posts. \n",
    "2. Deduce why those word are deemed important by the model.\n",
    "\n",
    "## Methods: \n",
    "\n",
    "Use Reddit’s API to web scrape from our subreddit of interest.\n",
    "1. We then focus on the title of the posts and selftext for analysis\n",
    "2. We run two models:\n",
    "3. Naive Bayes with Count Vectorized\n",
    "4. Naive Bayes with TF-IDF\n",
    " \n",
    "## Contents: \n",
    "1. EDA\n",
    "2. Multinomial Naive Bayes Model"
   ]
  },
  {
   "cell_type": "code",
   "execution_count": 62,
   "id": "892d7d0d",
   "metadata": {},
   "outputs": [],
   "source": [
    "# import libraries\n",
    "import numpy as np\n",
    "import matplotlib.pyplot as plt\n",
    "import seaborn as sns\n",
    "import pandas as pd\n",
    "import nltk\n",
    "from nltk.corpus import stopwords\n",
    "import requests, re\n",
    "import requests\n",
    "import time\n",
    "from datetime import datetime\n",
    "import regex as re\n",
    "\n",
    "from sklearn.linear_model import LogisticRegression\n",
    "from sklearn.feature_extraction.text import CountVectorizer, TfidfVectorizer\n",
    "from sklearn.pipeline import Pipeline\n",
    "from sklearn.model_selection import train_test_split, GridSearchCV\n",
    "from sklearn.svm import SVC\n",
    "from sklearn.naive_bayes import MultinomialNB, GaussianNB\n",
    "from sklearn import metrics\n",
    "from sklearn.metrics import classification_report, confusion_matrix\n",
    "from sklearn.utils.multiclass import unique_labels"
   ]
  },
  {
   "cell_type": "markdown",
   "id": "e9dbe5c3",
   "metadata": {},
   "source": [
    "# EDA and Preprocessing"
   ]
  },
  {
   "cell_type": "code",
   "execution_count": 5,
   "id": "808856f5",
   "metadata": {},
   "outputs": [],
   "source": [
    "# enter subreddit urls\n",
    "anime_url = 'https://www.reddit.com/r/anime.json'\n",
    "cartoon_url = 'https://www.reddit.com/r/cartoons.json'\n",
    "# establish our header\n",
    "header = {'User-agent': 'subreddit get requests'}"
   ]
  },
  {
   "cell_type": "code",
   "execution_count": 6,
   "id": "a0a5e010",
   "metadata": {},
   "outputs": [],
   "source": [
    "# initial get request to test API\n",
    "res = requests.get(anime_url, headers=header)\n",
    "anime_res = res.json()"
   ]
  },
  {
   "cell_type": "code",
   "execution_count": 7,
   "id": "13c5ea1d",
   "metadata": {},
   "outputs": [
    {
     "data": {
      "text/plain": [
       "200"
      ]
     },
     "execution_count": 7,
     "metadata": {},
     "output_type": "execute_result"
    }
   ],
   "source": [
    "# check request status\n",
    "res.status_code"
   ]
  },
  {
   "cell_type": "code",
   "execution_count": 8,
   "id": "56ace6b6",
   "metadata": {},
   "outputs": [],
   "source": [
    "# define function to get num pages of posts from a subreddit, start collecting at a defined after\n",
    "def reddit_scraper(url, num, after = None):\n",
    "    posts = []\n",
    "    # loop through the num pages, each subreddit .json returns 25 posts \n",
    "    for page in range(num):\n",
    "        # initiate params modifier for posts if there no defined after\n",
    "        if after == None:\n",
    "            params = {}\n",
    "        # add in after id for each loop following to ensure no duplicate posts\n",
    "        else:\n",
    "            params = {'after': after}\n",
    "        # call our get request for the posts\n",
    "        res = requests.get(url, params=params, headers=header)\n",
    "        # check status code, 200 means posts were successfully downloaded\n",
    "        if res.status_code == 200:\n",
    "            # convert request to .json\n",
    "            new_json = res.json()\n",
    "            # extend list from the 'children' dictionary for each request\n",
    "            posts.extend(new_json['data']['children'])\n",
    "            # update after id\n",
    "            after = new_json['data']['after']\n",
    "        else:\n",
    "            # print status code if not 200\n",
    "            print(res.status_code)\n",
    "            break\n",
    "        if page % 100 == 0:\n",
    "            print(page, 'request of ', num)\n",
    "        # wait 1 second\n",
    "        time.sleep(.5)\n",
    "        \n",
    "    # create a new dataframe with the 'data' from each post\n",
    "    new_df = pd.DataFrame([post['data'] for post in posts])   \n",
    "    # return the dataframe\n",
    "    return new_df"
   ]
  },
  {
   "cell_type": "code",
   "execution_count": 444,
   "id": "aa62d073",
   "metadata": {},
   "outputs": [
    {
     "name": "stdout",
     "output_type": "stream",
     "text": [
      "0 request of  2000\n",
      "100 request of  2000\n"
     ]
    },
    {
     "ename": "KeyboardInterrupt",
     "evalue": "",
     "output_type": "error",
     "traceback": [
      "\u001b[0;31m---------------------------------------------------------------------------\u001b[0m",
      "\u001b[0;31mKeyboardInterrupt\u001b[0m                         Traceback (most recent call last)",
      "\u001b[0;32m<ipython-input-444-174a30e76576>\u001b[0m in \u001b[0;36m<module>\u001b[0;34m\u001b[0m\n\u001b[0;32m----> 1\u001b[0;31m \u001b[0manime_df\u001b[0m \u001b[0;34m=\u001b[0m \u001b[0mreddit_scraper\u001b[0m\u001b[0;34m(\u001b[0m\u001b[0manime_url\u001b[0m\u001b[0;34m,\u001b[0m \u001b[0;36m2000\u001b[0m\u001b[0;34m)\u001b[0m\u001b[0;34m\u001b[0m\u001b[0;34m\u001b[0m\u001b[0m\n\u001b[0m\u001b[1;32m      2\u001b[0m \u001b[0mcartoon_df\u001b[0m \u001b[0;34m=\u001b[0m \u001b[0mreddit_scraper\u001b[0m\u001b[0;34m(\u001b[0m\u001b[0mcartoon_url\u001b[0m\u001b[0;34m,\u001b[0m \u001b[0;36m2000\u001b[0m\u001b[0;34m)\u001b[0m\u001b[0;34m\u001b[0m\u001b[0;34m\u001b[0m\u001b[0m\n",
      "\u001b[0;32m<ipython-input-347-372f12ad8de4>\u001b[0m in \u001b[0;36mreddit_scraper\u001b[0;34m(url, num, after)\u001b[0m\n\u001b[1;32m     27\u001b[0m             \u001b[0mprint\u001b[0m\u001b[0;34m(\u001b[0m\u001b[0mpage\u001b[0m\u001b[0;34m,\u001b[0m \u001b[0;34m'request of '\u001b[0m\u001b[0;34m,\u001b[0m \u001b[0mnum\u001b[0m\u001b[0;34m)\u001b[0m\u001b[0;34m\u001b[0m\u001b[0;34m\u001b[0m\u001b[0m\n\u001b[1;32m     28\u001b[0m         \u001b[0;31m# wait 1 second\u001b[0m\u001b[0;34m\u001b[0m\u001b[0;34m\u001b[0m\u001b[0;34m\u001b[0m\u001b[0m\n\u001b[0;32m---> 29\u001b[0;31m         \u001b[0mtime\u001b[0m\u001b[0;34m.\u001b[0m\u001b[0msleep\u001b[0m\u001b[0;34m(\u001b[0m\u001b[0;36m.5\u001b[0m\u001b[0;34m)\u001b[0m\u001b[0;34m\u001b[0m\u001b[0;34m\u001b[0m\u001b[0m\n\u001b[0m\u001b[1;32m     30\u001b[0m \u001b[0;34m\u001b[0m\u001b[0m\n\u001b[1;32m     31\u001b[0m     \u001b[0;31m# create a new dataframe with the 'data' from each post\u001b[0m\u001b[0;34m\u001b[0m\u001b[0;34m\u001b[0m\u001b[0;34m\u001b[0m\u001b[0m\n",
      "\u001b[0;31mKeyboardInterrupt\u001b[0m: "
     ]
    }
   ],
   "source": [
    "anime_df = reddit_scraper(anime_url, 2000)\n",
    "cartoon_df = reddit_scraper(cartoon_url, 2000)"
   ]
  },
  {
   "cell_type": "code",
   "execution_count": 349,
   "id": "8d0483f6",
   "metadata": {},
   "outputs": [
    {
     "data": {
      "text/plain": [
       "(17128, 112)"
      ]
     },
     "execution_count": 349,
     "metadata": {},
     "output_type": "execute_result"
    }
   ],
   "source": [
    "anime_df.shape"
   ]
  },
  {
   "cell_type": "code",
   "execution_count": 350,
   "id": "97240097",
   "metadata": {
    "scrolled": true
   },
   "outputs": [
    {
     "data": {
      "text/plain": [
       "(13678, 117)"
      ]
     },
     "execution_count": 350,
     "metadata": {},
     "output_type": "execute_result"
    }
   ],
   "source": [
    "cartoon_df.shape"
   ]
  },
  {
   "cell_type": "code",
   "execution_count": 351,
   "id": "211d58dd",
   "metadata": {},
   "outputs": [
    {
     "data": {
      "text/html": [
       "<div>\n",
       "<style scoped>\n",
       "    .dataframe tbody tr th:only-of-type {\n",
       "        vertical-align: middle;\n",
       "    }\n",
       "\n",
       "    .dataframe tbody tr th {\n",
       "        vertical-align: top;\n",
       "    }\n",
       "\n",
       "    .dataframe thead th {\n",
       "        text-align: right;\n",
       "    }\n",
       "</style>\n",
       "<table border=\"1\" class=\"dataframe\">\n",
       "  <thead>\n",
       "    <tr style=\"text-align: right;\">\n",
       "      <th></th>\n",
       "      <th>approved_at_utc</th>\n",
       "      <th>subreddit</th>\n",
       "      <th>selftext</th>\n",
       "      <th>author_fullname</th>\n",
       "      <th>saved</th>\n",
       "      <th>mod_reason_title</th>\n",
       "      <th>gilded</th>\n",
       "      <th>clicked</th>\n",
       "      <th>title</th>\n",
       "      <th>link_flair_richtext</th>\n",
       "      <th>...</th>\n",
       "      <th>subreddit_subscribers</th>\n",
       "      <th>created_utc</th>\n",
       "      <th>num_crossposts</th>\n",
       "      <th>media</th>\n",
       "      <th>is_video</th>\n",
       "      <th>post_hint</th>\n",
       "      <th>preview</th>\n",
       "      <th>url_overridden_by_dest</th>\n",
       "      <th>media_metadata</th>\n",
       "      <th>author_cakeday</th>\n",
       "    </tr>\n",
       "  </thead>\n",
       "  <tbody>\n",
       "    <tr>\n",
       "      <th>0</th>\n",
       "      <td>None</td>\n",
       "      <td>anime</td>\n",
       "      <td>A monthly thread to talk about meta topics. Ke...</td>\n",
       "      <td>t2_6wrl6</td>\n",
       "      <td>False</td>\n",
       "      <td>None</td>\n",
       "      <td>0</td>\n",
       "      <td>False</td>\n",
       "      <td>Meta Thread - Month of August 01, 2021</td>\n",
       "      <td>[{'e': 'text', 't': 'Meta'}]</td>\n",
       "      <td>...</td>\n",
       "      <td>2640547</td>\n",
       "      <td>1.627776e+09</td>\n",
       "      <td>0</td>\n",
       "      <td>None</td>\n",
       "      <td>False</td>\n",
       "      <td>NaN</td>\n",
       "      <td>NaN</td>\n",
       "      <td>NaN</td>\n",
       "      <td>NaN</td>\n",
       "      <td>NaN</td>\n",
       "    </tr>\n",
       "    <tr>\n",
       "      <th>1</th>\n",
       "      <td>None</td>\n",
       "      <td>anime</td>\n",
       "      <td>This is a weekly thread to get to know /r/anim...</td>\n",
       "      <td>t2_6l4z3</td>\n",
       "      <td>False</td>\n",
       "      <td>None</td>\n",
       "      <td>0</td>\n",
       "      <td>False</td>\n",
       "      <td>Casual Discussion Fridays - Week of August 06,...</td>\n",
       "      <td>[{'e': 'text', 't': 'Weekly'}]</td>\n",
       "      <td>...</td>\n",
       "      <td>2640547</td>\n",
       "      <td>1.628208e+09</td>\n",
       "      <td>0</td>\n",
       "      <td>None</td>\n",
       "      <td>False</td>\n",
       "      <td>self</td>\n",
       "      <td>{'images': [{'source': {'url': 'https://extern...</td>\n",
       "      <td>NaN</td>\n",
       "      <td>NaN</td>\n",
       "      <td>NaN</td>\n",
       "    </tr>\n",
       "    <tr>\n",
       "      <th>2</th>\n",
       "      <td>None</td>\n",
       "      <td>anime</td>\n",
       "      <td></td>\n",
       "      <td>t2_29lwdgfk</td>\n",
       "      <td>False</td>\n",
       "      <td>None</td>\n",
       "      <td>0</td>\n",
       "      <td>False</td>\n",
       "      <td>Chika trying to whistle [Kaguya Sama Love is War]</td>\n",
       "      <td>[{'e': 'text', 't': 'Clip'}]</td>\n",
       "      <td>...</td>\n",
       "      <td>2640547</td>\n",
       "      <td>1.628149e+09</td>\n",
       "      <td>2</td>\n",
       "      <td>{'reddit_video': {'bitrate_kbps': 4800, 'fallb...</td>\n",
       "      <td>True</td>\n",
       "      <td>hosted:video</td>\n",
       "      <td>{'images': [{'source': {'url': 'https://extern...</td>\n",
       "      <td>https://v.redd.it/3vpxiyfkthf71</td>\n",
       "      <td>NaN</td>\n",
       "      <td>NaN</td>\n",
       "    </tr>\n",
       "    <tr>\n",
       "      <th>3</th>\n",
       "      <td>None</td>\n",
       "      <td>anime</td>\n",
       "      <td>*Sonny Boy*, episode 4\\n\\n\\n\\n# [Rate this epi...</td>\n",
       "      <td>t2_1jzq3sy</td>\n",
       "      <td>False</td>\n",
       "      <td>None</td>\n",
       "      <td>0</td>\n",
       "      <td>False</td>\n",
       "      <td>Sonny Boy - Episode 4 discussion</td>\n",
       "      <td>[{'e': 'text', 't': 'Episode'}]</td>\n",
       "      <td>...</td>\n",
       "      <td>2640547</td>\n",
       "      <td>1.628181e+09</td>\n",
       "      <td>0</td>\n",
       "      <td>None</td>\n",
       "      <td>False</td>\n",
       "      <td>NaN</td>\n",
       "      <td>NaN</td>\n",
       "      <td>NaN</td>\n",
       "      <td>NaN</td>\n",
       "      <td>NaN</td>\n",
       "    </tr>\n",
       "    <tr>\n",
       "      <th>4</th>\n",
       "      <td>None</td>\n",
       "      <td>anime</td>\n",
       "      <td>*Heion Sedai no Idaten-tachi*, episode 4\\n\\nAl...</td>\n",
       "      <td>t2_1jzq3sy</td>\n",
       "      <td>False</td>\n",
       "      <td>None</td>\n",
       "      <td>0</td>\n",
       "      <td>False</td>\n",
       "      <td>Heion Sedai no Idaten-tachi - Episode 4 discus...</td>\n",
       "      <td>[{'e': 'text', 't': 'Episode'}]</td>\n",
       "      <td>...</td>\n",
       "      <td>2640547</td>\n",
       "      <td>1.628189e+09</td>\n",
       "      <td>0</td>\n",
       "      <td>None</td>\n",
       "      <td>False</td>\n",
       "      <td>NaN</td>\n",
       "      <td>NaN</td>\n",
       "      <td>NaN</td>\n",
       "      <td>NaN</td>\n",
       "      <td>NaN</td>\n",
       "    </tr>\n",
       "  </tbody>\n",
       "</table>\n",
       "<p>5 rows × 112 columns</p>\n",
       "</div>"
      ],
      "text/plain": [
       "  approved_at_utc subreddit  \\\n",
       "0            None     anime   \n",
       "1            None     anime   \n",
       "2            None     anime   \n",
       "3            None     anime   \n",
       "4            None     anime   \n",
       "\n",
       "                                            selftext author_fullname  saved  \\\n",
       "0  A monthly thread to talk about meta topics. Ke...        t2_6wrl6  False   \n",
       "1  This is a weekly thread to get to know /r/anim...        t2_6l4z3  False   \n",
       "2                                                        t2_29lwdgfk  False   \n",
       "3  *Sonny Boy*, episode 4\\n\\n\\n\\n# [Rate this epi...      t2_1jzq3sy  False   \n",
       "4  *Heion Sedai no Idaten-tachi*, episode 4\\n\\nAl...      t2_1jzq3sy  False   \n",
       "\n",
       "  mod_reason_title  gilded  clicked  \\\n",
       "0             None       0    False   \n",
       "1             None       0    False   \n",
       "2             None       0    False   \n",
       "3             None       0    False   \n",
       "4             None       0    False   \n",
       "\n",
       "                                               title  \\\n",
       "0             Meta Thread - Month of August 01, 2021   \n",
       "1  Casual Discussion Fridays - Week of August 06,...   \n",
       "2  Chika trying to whistle [Kaguya Sama Love is War]   \n",
       "3                   Sonny Boy - Episode 4 discussion   \n",
       "4  Heion Sedai no Idaten-tachi - Episode 4 discus...   \n",
       "\n",
       "               link_flair_richtext  ... subreddit_subscribers   created_utc  \\\n",
       "0     [{'e': 'text', 't': 'Meta'}]  ...               2640547  1.627776e+09   \n",
       "1   [{'e': 'text', 't': 'Weekly'}]  ...               2640547  1.628208e+09   \n",
       "2     [{'e': 'text', 't': 'Clip'}]  ...               2640547  1.628149e+09   \n",
       "3  [{'e': 'text', 't': 'Episode'}]  ...               2640547  1.628181e+09   \n",
       "4  [{'e': 'text', 't': 'Episode'}]  ...               2640547  1.628189e+09   \n",
       "\n",
       "   num_crossposts                                              media  \\\n",
       "0               0                                               None   \n",
       "1               0                                               None   \n",
       "2               2  {'reddit_video': {'bitrate_kbps': 4800, 'fallb...   \n",
       "3               0                                               None   \n",
       "4               0                                               None   \n",
       "\n",
       "   is_video     post_hint                                            preview  \\\n",
       "0     False           NaN                                                NaN   \n",
       "1     False          self  {'images': [{'source': {'url': 'https://extern...   \n",
       "2      True  hosted:video  {'images': [{'source': {'url': 'https://extern...   \n",
       "3     False           NaN                                                NaN   \n",
       "4     False           NaN                                                NaN   \n",
       "\n",
       "            url_overridden_by_dest media_metadata  author_cakeday  \n",
       "0                              NaN            NaN             NaN  \n",
       "1                              NaN            NaN             NaN  \n",
       "2  https://v.redd.it/3vpxiyfkthf71            NaN             NaN  \n",
       "3                              NaN            NaN             NaN  \n",
       "4                              NaN            NaN             NaN  \n",
       "\n",
       "[5 rows x 112 columns]"
      ]
     },
     "execution_count": 351,
     "metadata": {},
     "output_type": "execute_result"
    }
   ],
   "source": [
    "anime_df.head()"
   ]
  },
  {
   "cell_type": "code",
   "execution_count": 352,
   "id": "6828dd4b",
   "metadata": {},
   "outputs": [],
   "source": [
    "anime_df.to_csv(\"./data/anime_subreddit_data.csv\", index=False)\n",
    "cartoon_df.to_csv(\"./data/cartoon_subreddit_data.csv\", index=False)"
   ]
  },
  {
   "cell_type": "code",
   "execution_count": 9,
   "id": "b0af5b76",
   "metadata": {},
   "outputs": [],
   "source": [
    "anime_df = pd.read_csv('./data/anime_subreddit_data.csv')\n",
    "cartoon_df = pd.read_csv('./data/cartoon_subreddit_data.csv')"
   ]
  },
  {
   "cell_type": "code",
   "execution_count": 10,
   "id": "5645657d",
   "metadata": {},
   "outputs": [],
   "source": [
    "# define function to combine two subsets of columns\n",
    "# fills NaN's with null strings to ensure compatability\n",
    "def combine_text(df, cols):\n",
    "    for col in cols:\n",
    "        df[col] = df[col].fillna(value = \"\")\n",
    "    return df[cols].apply(lambda x: ''.join(x), axis=1)"
   ]
  },
  {
   "cell_type": "code",
   "execution_count": 11,
   "id": "03a9b7f4",
   "metadata": {},
   "outputs": [],
   "source": [
    "anime_df['text'] = combine_text(anime_df,['title', 'selftext'])"
   ]
  },
  {
   "cell_type": "code",
   "execution_count": 12,
   "id": "9b6cb96f",
   "metadata": {},
   "outputs": [],
   "source": [
    "cartoon_df['text'] = combine_text(cartoon_df,['title', 'selftext'])"
   ]
  },
  {
   "cell_type": "code",
   "execution_count": 13,
   "id": "365c863d",
   "metadata": {},
   "outputs": [],
   "source": [
    "anime_df = anime_df [['text', 'name', 'subreddit']]"
   ]
  },
  {
   "cell_type": "code",
   "execution_count": 14,
   "id": "9bb83e58",
   "metadata": {},
   "outputs": [],
   "source": [
    "cartoon_df = cartoon_df [['text', 'name', 'subreddit']]"
   ]
  },
  {
   "cell_type": "code",
   "execution_count": 15,
   "id": "b3483703",
   "metadata": {},
   "outputs": [],
   "source": [
    "# drop duplicate posts based on the post name ID\n",
    "anime_df = anime_df.drop_duplicates(subset=['name'])\n",
    "cartoon_df = cartoon_df.drop_duplicates(subset=['name'])"
   ]
  },
  {
   "cell_type": "code",
   "execution_count": 16,
   "id": "1859898e",
   "metadata": {},
   "outputs": [
    {
     "data": {
      "text/html": [
       "<div>\n",
       "<style scoped>\n",
       "    .dataframe tbody tr th:only-of-type {\n",
       "        vertical-align: middle;\n",
       "    }\n",
       "\n",
       "    .dataframe tbody tr th {\n",
       "        vertical-align: top;\n",
       "    }\n",
       "\n",
       "    .dataframe thead th {\n",
       "        text-align: right;\n",
       "    }\n",
       "</style>\n",
       "<table border=\"1\" class=\"dataframe\">\n",
       "  <thead>\n",
       "    <tr style=\"text-align: right;\">\n",
       "      <th></th>\n",
       "      <th>text</th>\n",
       "      <th>name</th>\n",
       "      <th>subreddit</th>\n",
       "    </tr>\n",
       "  </thead>\n",
       "  <tbody>\n",
       "    <tr>\n",
       "      <th>0</th>\n",
       "      <td>Meta Thread - Month of August 01, 2021A monthl...</td>\n",
       "      <td>t3_ovhuxg</td>\n",
       "      <td>anime</td>\n",
       "    </tr>\n",
       "    <tr>\n",
       "      <th>1</th>\n",
       "      <td>Casual Discussion Fridays - Week of August 06,...</td>\n",
       "      <td>t3_oyv4ng</td>\n",
       "      <td>anime</td>\n",
       "    </tr>\n",
       "    <tr>\n",
       "      <th>2</th>\n",
       "      <td>Chika trying to whistle [Kaguya Sama Love is War]</td>\n",
       "      <td>t3_oycncn</td>\n",
       "      <td>anime</td>\n",
       "    </tr>\n",
       "    <tr>\n",
       "      <th>3</th>\n",
       "      <td>Sonny Boy - Episode 4 discussion*Sonny Boy*, e...</td>\n",
       "      <td>t3_oym5ka</td>\n",
       "      <td>anime</td>\n",
       "    </tr>\n",
       "    <tr>\n",
       "      <th>4</th>\n",
       "      <td>Heion Sedai no Idaten-tachi - Episode 4 discus...</td>\n",
       "      <td>t3_oyopz3</td>\n",
       "      <td>anime</td>\n",
       "    </tr>\n",
       "    <tr>\n",
       "      <th>...</th>\n",
       "      <td>...</td>\n",
       "      <td>...</td>\n",
       "      <td>...</td>\n",
       "    </tr>\n",
       "    <tr>\n",
       "      <th>5166</th>\n",
       "      <td>Am I a traitor?I've been a shinobi of the Hidd...</td>\n",
       "      <td>t3_oyvmjr</td>\n",
       "      <td>anime</td>\n",
       "    </tr>\n",
       "    <tr>\n",
       "      <th>8075</th>\n",
       "      <td>Is Jujutsu Kaisen worth the watch?I’ve been in...</td>\n",
       "      <td>t3_oyvnwd</td>\n",
       "      <td>anime</td>\n",
       "    </tr>\n",
       "    <tr>\n",
       "      <th>8801</th>\n",
       "      <td>What trashy seasonal anime have you enjoyed mo...</td>\n",
       "      <td>t3_oyvocr</td>\n",
       "      <td>anime</td>\n",
       "    </tr>\n",
       "    <tr>\n",
       "      <th>8802</th>\n",
       "      <td>New Weeb Anthem (oc)</td>\n",
       "      <td>t3_oyvo48</td>\n",
       "      <td>anime</td>\n",
       "    </tr>\n",
       "    <tr>\n",
       "      <th>15997</th>\n",
       "      <td>Bokutachi no Remake - Episode 5 discussion*Bok...</td>\n",
       "      <td>t3_ov870h</td>\n",
       "      <td>anime</td>\n",
       "    </tr>\n",
       "  </tbody>\n",
       "</table>\n",
       "<p>732 rows × 3 columns</p>\n",
       "</div>"
      ],
      "text/plain": [
       "                                                    text       name subreddit\n",
       "0      Meta Thread - Month of August 01, 2021A monthl...  t3_ovhuxg     anime\n",
       "1      Casual Discussion Fridays - Week of August 06,...  t3_oyv4ng     anime\n",
       "2      Chika trying to whistle [Kaguya Sama Love is War]  t3_oycncn     anime\n",
       "3      Sonny Boy - Episode 4 discussion*Sonny Boy*, e...  t3_oym5ka     anime\n",
       "4      Heion Sedai no Idaten-tachi - Episode 4 discus...  t3_oyopz3     anime\n",
       "...                                                  ...        ...       ...\n",
       "5166   Am I a traitor?I've been a shinobi of the Hidd...  t3_oyvmjr     anime\n",
       "8075   Is Jujutsu Kaisen worth the watch?I’ve been in...  t3_oyvnwd     anime\n",
       "8801   What trashy seasonal anime have you enjoyed mo...  t3_oyvocr     anime\n",
       "8802                                New Weeb Anthem (oc)  t3_oyvo48     anime\n",
       "15997  Bokutachi no Remake - Episode 5 discussion*Bok...  t3_ov870h     anime\n",
       "\n",
       "[732 rows x 3 columns]"
      ]
     },
     "execution_count": 16,
     "metadata": {},
     "output_type": "execute_result"
    }
   ],
   "source": [
    "anime_df"
   ]
  },
  {
   "cell_type": "code",
   "execution_count": 17,
   "id": "c0fad113",
   "metadata": {},
   "outputs": [],
   "source": [
    "# concat the nfl and nba dataframes\n",
    "reddit = pd.concat([anime_df, cartoon_df], ignore_index=True)"
   ]
  },
  {
   "cell_type": "code",
   "execution_count": 18,
   "id": "e98b584a",
   "metadata": {},
   "outputs": [
    {
     "data": {
      "text/plain": [
       "(1709, 3)"
      ]
     },
     "execution_count": 18,
     "metadata": {},
     "output_type": "execute_result"
    }
   ],
   "source": [
    "reddit.shape"
   ]
  },
  {
   "cell_type": "code",
   "execution_count": 19,
   "id": "c4a032ae",
   "metadata": {},
   "outputs": [],
   "source": [
    "# define function to run same regex over a dataframe\n",
    "def sub_preprocess(sub):\n",
    "    # run regex to remove urls\n",
    "    sub['text'] = sub['text'].map(lambda x: re.sub(r\"((http|ftp|https):\\/\\/)?[\\w\\-_]+(\\.[\\w\\-_]+)+([\\w\\-\\.,@?^=%&amp;:/~\\+#]*[\\w\\-\\@?^=%&amp;/~\\+#])?\", ' ', x))\n",
    "\n",
    "    # run regex to remove certain characters\n",
    "    sub['text'] = sub['text'].map(lambda x: re.sub(r\"[@\\?\\.$%_\\[\\]()+-:*\\\"]\", ' ', x, flags=re.I))\n",
    "    sub['text'] = sub['text'].map(lambda x: re.sub(r\"[,']\", '', x, flags=re.I))\n",
    "    sub['text'] = sub['text'].map(lambda x: re.sub(\"(?<![\\w'])\\w+?(?=\\b|'s)\", ' ', x))\n",
    "\n",
    "    # run regex to remove line breaks and tabs\n",
    "    sub['text'] = sub['text'].map(lambda x: re.sub(r\"\\s+\", ' ', x))\n",
    "\n",
    "    # run regex to remove common words\n",
    "    sub['text'] = sub['text'].map(lambda x: re.sub('(of|in|This|to|and)', ' ', x))            \n",
    "    "
   ]
  },
  {
   "cell_type": "code",
   "execution_count": 20,
   "id": "cd74d282",
   "metadata": {},
   "outputs": [],
   "source": [
    "# run the regex function on our dataframes\n",
    "sub_preprocess(reddit)"
   ]
  },
  {
   "cell_type": "code",
   "execution_count": 21,
   "id": "a822db99",
   "metadata": {},
   "outputs": [],
   "source": [
    "reddit['is_anime'] = reddit['subreddit'].map(lambda x: 1 if x == 'anime' else 0)"
   ]
  },
  {
   "cell_type": "code",
   "execution_count": 22,
   "id": "ef1712be",
   "metadata": {},
   "outputs": [
    {
     "data": {
      "text/plain": [
       "0    0.571679\n",
       "1    0.428321\n",
       "Name: is_anime, dtype: float64"
      ]
     },
     "execution_count": 22,
     "metadata": {},
     "output_type": "execute_result"
    }
   ],
   "source": [
    "reddit['is_anime'].value_counts(normalize=True)"
   ]
  },
  {
   "cell_type": "code",
   "execution_count": 23,
   "id": "ad4c3457",
   "metadata": {},
   "outputs": [],
   "source": [
    "# function to visualize confusion matrix\n",
    "# Source code from SkLearn documentation\n",
    "# https://scikit-learn.org/stable/auto_examples/model_selection/plot_confusion_matrix.html\n",
    "\n",
    "def plot_confusion_matrix(y_true, y_pred, classes,\n",
    "                          normalize=False,\n",
    "                          title=None,\n",
    "                          cmap=plt.cm.Blues):\n",
    "#     This function prints and plots the confusion matrix.\n",
    "#     Normalization can be applied by setting `normalize=True`.\n",
    "\n",
    "    if not title:\n",
    "        if normalize:\n",
    "            title = 'Normalized confusion matrix'\n",
    "        else:\n",
    "            title = 'Confusion matrix, without normalization'\n",
    "\n",
    "    # Compute confusion matrix\n",
    "    cm = metrics.confusion_matrix(y_true, y_pred)\n",
    "    # Only use the labels that appear in the data\n",
    "    classes = classes[unique_labels(y_true, y_pred)]\n",
    "    if normalize:\n",
    "        cm = cm.astype('float') / cm.sum(axis=1)[:, np.newaxis]\n",
    "        print(\"Normalized confusion matrix\")\n",
    "    else:\n",
    "        print('Confusion matrix, without normalization')\n",
    "\n",
    "    print(cm)\n",
    "\n",
    "    fig, ax = plt.subplots()\n",
    "    im = ax.imshow(cm, interpolation='nearest', cmap=cmap)\n",
    "    ax.figure.colorbar(im, ax=ax)\n",
    "    # We want to show all ticks...\n",
    "    ax.set(xticks=np.arange(cm.shape[1]),\n",
    "           yticks=np.arange(cm.shape[0]),\n",
    "           # ... and label them with the respective list entries\n",
    "           xticklabels=classes, yticklabels=classes,\n",
    "           title=title,\n",
    "           ylabel='True label',\n",
    "           xlabel='Predicted label')\n",
    "\n",
    "    # Rotate the tick labels and set their alignment.\n",
    "    plt.setp(ax.get_xticklabels(), rotation=45, ha=\"right\",\n",
    "             rotation_mode=\"anchor\")\n",
    "\n",
    "    # Loop over data dimensions and create text annotations.\n",
    "    fmt = '.2f' if normalize else 'd'\n",
    "    thresh = cm.max() / 2.\n",
    "    for i in range(cm.shape[0]):\n",
    "        for j in range(cm.shape[1]):\n",
    "            ax.text(j, i, format(cm[i, j], fmt),\n",
    "                    ha=\"center\", va=\"center\",\n",
    "                    color=\"white\" if cm[i, j] > thresh else \"black\")\n",
    "    fig.tight_layout()\n",
    "    return ax"
   ]
  },
  {
   "cell_type": "markdown",
   "id": "ae1d93c5",
   "metadata": {},
   "source": [
    "## Multinomial Naive Bayes Model"
   ]
  },
  {
   "cell_type": "code",
   "execution_count": 24,
   "id": "b717c822",
   "metadata": {},
   "outputs": [],
   "source": [
    "# train/test split our data\n",
    "X = reddit['text']\n",
    "y = reddit['is_anime']\n",
    "\n",
    "X_train, X_test, y_train, y_test = train_test_split(X, y, stratify=y, random_state=42)"
   ]
  },
  {
   "cell_type": "code",
   "execution_count": 25,
   "id": "4ab681c2",
   "metadata": {},
   "outputs": [],
   "source": [
    "# instantiate pipeline\n",
    "tfidf_pipe = Pipeline([\n",
    "    ('tfidf', TfidfVectorizer()),\n",
    "    ('nb', MultinomialNB())\n",
    "])"
   ]
  },
  {
   "cell_type": "code",
   "execution_count": 26,
   "id": "a3119255",
   "metadata": {},
   "outputs": [],
   "source": [
    "# define gridsearch hyperparameters\n",
    "tfidf_params = {\n",
    "    'tfidf__max_features': [2000, 5000, 10000, 20000],\n",
    "    'tfidf__ngram_range': [(1,1), (1,2)],\n",
    "    'tfidf__max_df': [.60, .75, .90],\n",
    "    'tfidf__stop_words': [None, 'english']\n",
    "}"
   ]
  },
  {
   "cell_type": "code",
   "execution_count": 27,
   "id": "ef478e4c",
   "metadata": {},
   "outputs": [
    {
     "data": {
      "text/plain": [
       "{'tfidf__max_df': 0.6,\n",
       " 'tfidf__max_features': 20000,\n",
       " 'tfidf__ngram_range': (1, 2),\n",
       " 'tfidf__stop_words': None}"
      ]
     },
     "execution_count": 27,
     "metadata": {},
     "output_type": "execute_result"
    }
   ],
   "source": [
    "# run gridsearch\n",
    "tfidf_gs = GridSearchCV(tfidf_pipe, param_grid=tfidf_params, cv=3, n_jobs=4)\n",
    "tfidf_gs.fit(X_train, y_train)\n",
    "\n",
    "# display best hyperparameters\n",
    "tfidf_gs.best_params_"
   ]
  },
  {
   "cell_type": "code",
   "execution_count": 28,
   "id": "4112b614",
   "metadata": {},
   "outputs": [
    {
     "data": {
      "text/plain": [
       "0.9937548790007806"
      ]
     },
     "execution_count": 28,
     "metadata": {},
     "output_type": "execute_result"
    }
   ],
   "source": [
    "#check score from training data\n",
    "tfidf_gs.score(X_train, y_train)"
   ]
  },
  {
   "cell_type": "code",
   "execution_count": 29,
   "id": "4439263e",
   "metadata": {},
   "outputs": [
    {
     "data": {
      "text/plain": [
       "0.9018691588785047"
      ]
     },
     "execution_count": 29,
     "metadata": {},
     "output_type": "execute_result"
    }
   ],
   "source": [
    "# check score from predictions on testing data\n",
    "y_pred_class = tfidf_gs.predict(X_test)\n",
    "metrics.accuracy_score(y_test, y_pred_class)"
   ]
  },
  {
   "cell_type": "code",
   "execution_count": 30,
   "id": "bf6a6e37",
   "metadata": {},
   "outputs": [],
   "source": [
    "# instantiate pipeline\n",
    "cvec_pipe = Pipeline([\n",
    "    ('cvec', CountVectorizer()),\n",
    "    ('nb', MultinomialNB())\n",
    "])"
   ]
  },
  {
   "cell_type": "code",
   "execution_count": 31,
   "id": "8d5c5811",
   "metadata": {},
   "outputs": [],
   "source": [
    "# define gridsearch parameters\n",
    "cvec_params = {\n",
    "    'cvec__max_features': [2000, 5000, 10000, 20000],\n",
    "    'cvec__ngram_range': [(1,1), (1,2)],\n",
    "    'cvec__max_df': [.60, .75, .95],\n",
    "    'cvec__stop_words': [None, 'english']\n",
    "}"
   ]
  },
  {
   "cell_type": "code",
   "execution_count": 32,
   "id": "607cdd09",
   "metadata": {},
   "outputs": [
    {
     "data": {
      "text/plain": [
       "{'cvec__max_df': 0.6,\n",
       " 'cvec__max_features': 2000,\n",
       " 'cvec__ngram_range': (1, 1),\n",
       " 'cvec__stop_words': None}"
      ]
     },
     "execution_count": 32,
     "metadata": {},
     "output_type": "execute_result"
    }
   ],
   "source": [
    "# run gridsearch\n",
    "cvec_gs = GridSearchCV(cvec_pipe, param_grid=cvec_params, cv=3, n_jobs=4)\n",
    "cvec_gs.fit(X_train, y_train)\n",
    "\n",
    "# display best hyperparameters\n",
    "cvec_gs.best_params_"
   ]
  },
  {
   "cell_type": "code",
   "execution_count": 33,
   "id": "d5cb9f46",
   "metadata": {},
   "outputs": [
    {
     "data": {
      "text/plain": [
       "0.9375487900078064"
      ]
     },
     "execution_count": 33,
     "metadata": {},
     "output_type": "execute_result"
    }
   ],
   "source": [
    "# check score from training data\n",
    "cvec_gs.score(X_train, y_train)"
   ]
  },
  {
   "cell_type": "code",
   "execution_count": 34,
   "id": "2444c85e",
   "metadata": {},
   "outputs": [
    {
     "data": {
      "text/plain": [
       "0.8785046728971962"
      ]
     },
     "execution_count": 34,
     "metadata": {},
     "output_type": "execute_result"
    }
   ],
   "source": [
    "# check score from predictions on testing data\n",
    "y_pred_class = cvec_gs.predict(X_test)\n",
    "metrics.accuracy_score(y_test, y_pred_class)"
   ]
  },
  {
   "cell_type": "code",
   "execution_count": 35,
   "id": "e8f8ae38",
   "metadata": {},
   "outputs": [],
   "source": [
    "# use the parameters found in the gridsearch\n",
    "tfidf = TfidfVectorizer(stop_words='english', ngram_range=(1, 2), max_features=10000, max_df=0.60)"
   ]
  },
  {
   "cell_type": "code",
   "execution_count": 36,
   "id": "6f59c82c",
   "metadata": {},
   "outputs": [],
   "source": [
    "# run the TF-IDF vectorized model with optimal parameters\n",
    "train_raw = tfidf.fit_transform(X_train)\n",
    "train_df = pd.DataFrame(train_raw.toarray(), columns=tfidf.get_feature_names())\n",
    "\n",
    "test_raw = tfidf.transform(X_test)\n",
    "test_df = pd.DataFrame(test_raw.toarray(), columns=tfidf.get_feature_names())\n",
    "\n",
    "train_df.fillna(0, inplace=True)\n",
    "test_df.fillna(0, inplace=True)"
   ]
  },
  {
   "cell_type": "code",
   "execution_count": 37,
   "id": "9bc480e3",
   "metadata": {},
   "outputs": [
    {
     "data": {
      "text/plain": [
       "MultinomialNB()"
      ]
     },
     "execution_count": 37,
     "metadata": {},
     "output_type": "execute_result"
    }
   ],
   "source": [
    "tfidf_nb = MultinomialNB()\n",
    "tfidf_nb.fit(train_df, y_train)"
   ]
  },
  {
   "cell_type": "code",
   "execution_count": 38,
   "id": "5eb65add",
   "metadata": {},
   "outputs": [
    {
     "data": {
      "text/plain": [
       "0.897196261682243"
      ]
     },
     "execution_count": 38,
     "metadata": {},
     "output_type": "execute_result"
    }
   ],
   "source": [
    "# score model on testing set\n",
    "tfidf_nb.score(test_raw, y_test)"
   ]
  },
  {
   "cell_type": "code",
   "execution_count": 39,
   "id": "f971b8eb",
   "metadata": {},
   "outputs": [],
   "source": [
    "# define fucntion to determine the most useful features for  Multinomial NB classifiers\n",
    "def nb_features(vectorizer, classifier, n=20, class_labels=[0, 1]):\n",
    "    \n",
    "    # get list of feature names from the vectorizor\n",
    "    feature_names = vectorizer.get_feature_names()\n",
    "    \n",
    "    # two lists of tuples that contain the log probability from the classifier\n",
    "    # tie it to the corresponding feature names, sort the list by highest log probability\n",
    "    top_class0 = sorted(zip(classifier.feature_log_prob_[0], feature_names), reverse=True)[:n]\n",
    "    top_class1 = sorted(zip(classifier.feature_log_prob_[1], feature_names), reverse=True)[:n]\n",
    "    # credit to Sai Sandeep on StackOverflow for giving the basis for the zip method of tying names and counts together\n",
    "    \n",
    "    print(f\"Important words in classifying posts for {class_labels[0]}\")\n",
    "    \n",
    "    # print label, the exponential of the log probability,  and the feature names\n",
    "    for prob, feat in top_class0:\n",
    "        print(class_labels[0], np.exp(prob), feat)\n",
    "\n",
    "    print(\" \")\n",
    "    print(\" \")\n",
    "    print(f\"Important words in classifying posts for {class_labels[1]}\")\n",
    "\n",
    "    for prob, feat in top_class1:\n",
    "        print(class_labels[1], np.exp(prob), feat)"
   ]
  },
  {
   "cell_type": "code",
   "execution_count": 40,
   "id": "9dce9838",
   "metadata": {},
   "outputs": [
    {
     "name": "stdout",
     "output_type": "stream",
     "text": [
      "Important words in classifying posts for r/cartoon\n",
      "r/cartoon 0.0029167584619204175 car\n",
      "r/cartoon 0.0011422335513693142 ons\n",
      "r/cartoon 0.0011179995092761032 car ons\n",
      "r/cartoon 0.0010218176435555606 remember\n",
      "r/cartoon 0.0009612515289294501 th\n",
      "r/cartoon 0.0009507804682638325 animation\n",
      "r/cartoon 0.0009150155310857654 like\n",
      "r/cartoon 0.000880909683622459 view\n",
      "r/cartoon 0.0008580460586803102 poll\n",
      "r/cartoon 0.0008012817400726038 view poll\n",
      "r/cartoon 0.0007793475637334414 know\n",
      "r/cartoon 0.0007591736001200311 new\n",
      "r/cartoon 0.0007000416829834881 watch\n",
      "r/cartoon 0.0006814732276836882 draw\n",
      "r/cartoon 0.0006718688947750881 character\n",
      "r/cartoon 0.000617604409097174 universe\n",
      "r/cartoon 0.0006122645986974887 best\n",
      "r/cartoon 0.0006056961864186181 animated\n",
      "r/cartoon 0.0006033143870236165 just\n",
      "r/cartoon 0.0005929240092938295 episode\n",
      " \n",
      " \n",
      "Important words in classifying posts for r/anime\n",
      "r/anime 0.0030755271951653186 anime\n",
      "r/anime 0.0015853019871366878 watch\n",
      "r/anime 0.001328850015344184 like\n",
      "r/anime 0.0010305597700289452 just\n",
      "r/anime 0.0009152034893512668 good\n",
      "r/anime 0.0008203342574462877 episode\n",
      "r/anime 0.0008177985861278614 th\n",
      "r/anime 0.0007909500155447798 im\n",
      "r/anime 0.0007739800032751488 really\n",
      "r/anime 0.0007429793734524078 know\n",
      "r/anime 0.0006515377016139826 look\n",
      "r/anime 0.0006463314567421752 watched\n",
      "r/anime 0.0006180517375022755 new\n",
      "r/anime 0.0006107266846106076 need\n",
      "r/anime 0.0005785747802575334 someth\n",
      "r/anime 0.0005362672810340813 animes\n",
      "r/anime 0.0005341597654191699 want\n",
      "r/anime 0.0005223892945457542 love\n",
      "r/anime 0.0005207165436001815 time\n",
      "r/anime 0.0004979395305962083 season\n"
     ]
    }
   ],
   "source": [
    "nb_features(tfidf, tfidf_nb, class_labels=['r/cartoon', 'r/anime'])"
   ]
  },
  {
   "cell_type": "code",
   "execution_count": 41,
   "id": "7ad81699",
   "metadata": {},
   "outputs": [],
   "source": [
    "# create dataframes for plotting NB results\n",
    "# note that exponential is taken from the log probability to get the actual probability for each feature\n",
    "nb_feat_importance_nfl = pd.DataFrame(np.exp(tfidf_nb.feature_log_prob_[0]), train_df.columns, columns=['probability'])\n",
    "nb_feat_importance_nba = pd.DataFrame(np.exp(tfidf_nb.feature_log_prob_[1]), train_df.columns, columns=['probability'])"
   ]
  },
  {
   "cell_type": "code",
   "execution_count": 47,
   "id": "233c0269",
   "metadata": {
    "scrolled": true
   },
   "outputs": [
    {
     "data": {
      "image/png": "[encoded data removed]",
      "text/plain": [
       "<Figure size 1440x720 with 1 Axes>"
      ]
     },
     "metadata": {
      "needs_background": "light"
     },
     "output_type": "display_data"
    }
   ],
   "source": [
    "# plot the results from the NB dataframes\n",
    "plt.figure(figsize=(20,10))\n",
    "cartoon = nb_feat_importance_nfl.sort_values('probability', ascending=False).head(10)\n",
    "anime = nb_feat_importance_nba.sort_values('probability', ascending=False).head(10)\n",
    "\n",
    "plt.barh(nfl.index, nfl['probability'], color='darkblue')\n",
    "plt.barh(nba.index, nba['probability'], color='darkorange')\n",
    "plt.yticks(size=16)\n",
    "\n",
    "plt.title('Top 10 Features', fontsize=30)\n",
    "plt.xlabel('Probability', fontsize=20)\n",
    "plt.ylabel('Feature', fontsize=20);"
   ]
  },
  {
   "cell_type": "code",
   "execution_count": 48,
   "id": "1b0002ce",
   "metadata": {},
   "outputs": [],
   "source": [
    "nb_counts_cartoon = pd.DataFrame(tfidf_nb.feature_count_[0], train_df.columns, columns=['weighted_count'])\n",
    "nb_counts_anime = pd.DataFrame(tfidf_nb.feature_count_[1], train_df.columns, columns=['weighted_count'])"
   ]
  },
  {
   "cell_type": "code",
   "execution_count": 49,
   "id": "8594773e",
   "metadata": {},
   "outputs": [
    {
     "data": {
      "text/html": [
       "<div>\n",
       "<style scoped>\n",
       "    .dataframe tbody tr th:only-of-type {\n",
       "        vertical-align: middle;\n",
       "    }\n",
       "\n",
       "    .dataframe tbody tr th {\n",
       "        vertical-align: top;\n",
       "    }\n",
       "\n",
       "    .dataframe thead th {\n",
       "        text-align: right;\n",
       "    }\n",
       "</style>\n",
       "<table border=\"1\" class=\"dataframe\">\n",
       "  <thead>\n",
       "    <tr style=\"text-align: right;\">\n",
       "      <th></th>\n",
       "      <th>weighted_count</th>\n",
       "    </tr>\n",
       "  </thead>\n",
       "  <tbody>\n",
       "    <tr>\n",
       "      <th>anime</th>\n",
       "      <td>38.351031</td>\n",
       "    </tr>\n",
       "    <tr>\n",
       "      <th>watch</th>\n",
       "      <td>19.283764</td>\n",
       "    </tr>\n",
       "    <tr>\n",
       "      <th>like</th>\n",
       "      <td>16.002489</td>\n",
       "    </tr>\n",
       "    <tr>\n",
       "      <th>just</th>\n",
       "      <td>12.185898</td>\n",
       "    </tr>\n",
       "    <tr>\n",
       "      <th>good</th>\n",
       "      <td>10.709928</td>\n",
       "    </tr>\n",
       "    <tr>\n",
       "      <th>episode</th>\n",
       "      <td>9.496086</td>\n",
       "    </tr>\n",
       "    <tr>\n",
       "      <th>th</th>\n",
       "      <td>9.463643</td>\n",
       "    </tr>\n",
       "    <tr>\n",
       "      <th>im</th>\n",
       "      <td>9.120118</td>\n",
       "    </tr>\n",
       "    <tr>\n",
       "      <th>really</th>\n",
       "      <td>8.902989</td>\n",
       "    </tr>\n",
       "    <tr>\n",
       "      <th>know</th>\n",
       "      <td>8.506339</td>\n",
       "    </tr>\n",
       "    <tr>\n",
       "      <th>look</th>\n",
       "      <td>7.336353</td>\n",
       "    </tr>\n",
       "    <tr>\n",
       "      <th>watched</th>\n",
       "      <td>7.269740</td>\n",
       "    </tr>\n",
       "    <tr>\n",
       "      <th>new</th>\n",
       "      <td>6.907904</td>\n",
       "    </tr>\n",
       "    <tr>\n",
       "      <th>need</th>\n",
       "      <td>6.814180</td>\n",
       "    </tr>\n",
       "    <tr>\n",
       "      <th>someth</th>\n",
       "      <td>6.402800</td>\n",
       "    </tr>\n",
       "    <tr>\n",
       "      <th>animes</th>\n",
       "      <td>5.861481</td>\n",
       "    </tr>\n",
       "    <tr>\n",
       "      <th>want</th>\n",
       "      <td>5.834515</td>\n",
       "    </tr>\n",
       "    <tr>\n",
       "      <th>love</th>\n",
       "      <td>5.683913</td>\n",
       "    </tr>\n",
       "    <tr>\n",
       "      <th>time</th>\n",
       "      <td>5.662511</td>\n",
       "    </tr>\n",
       "    <tr>\n",
       "      <th>season</th>\n",
       "      <td>5.371081</td>\n",
       "    </tr>\n",
       "  </tbody>\n",
       "</table>\n",
       "</div>"
      ],
      "text/plain": [
       "         weighted_count\n",
       "anime         38.351031\n",
       "watch         19.283764\n",
       "like          16.002489\n",
       "just          12.185898\n",
       "good          10.709928\n",
       "episode        9.496086\n",
       "th             9.463643\n",
       "im             9.120118\n",
       "really         8.902989\n",
       "know           8.506339\n",
       "look           7.336353\n",
       "watched        7.269740\n",
       "new            6.907904\n",
       "need           6.814180\n",
       "someth         6.402800\n",
       "animes         5.861481\n",
       "want           5.834515\n",
       "love           5.683913\n",
       "time           5.662511\n",
       "season         5.371081"
      ]
     },
     "execution_count": 49,
     "metadata": {},
     "output_type": "execute_result"
    }
   ],
   "source": [
    "nb_counts_anime.sort_values(by=['weighted_count'], ascending=False).head(20)"
   ]
  },
  {
   "cell_type": "code",
   "execution_count": 50,
   "id": "47e4dec3",
   "metadata": {
    "scrolled": false
   },
   "outputs": [
    {
     "data": {
      "text/html": [
       "<div>\n",
       "<style scoped>\n",
       "    .dataframe tbody tr th:only-of-type {\n",
       "        vertical-align: middle;\n",
       "    }\n",
       "\n",
       "    .dataframe tbody tr th {\n",
       "        vertical-align: top;\n",
       "    }\n",
       "\n",
       "    .dataframe thead th {\n",
       "        text-align: right;\n",
       "    }\n",
       "</style>\n",
       "<table border=\"1\" class=\"dataframe\">\n",
       "  <thead>\n",
       "    <tr style=\"text-align: right;\">\n",
       "      <th></th>\n",
       "      <th>weighted_count</th>\n",
       "    </tr>\n",
       "  </thead>\n",
       "  <tbody>\n",
       "    <tr>\n",
       "      <th>car</th>\n",
       "      <td>35.265886</td>\n",
       "    </tr>\n",
       "    <tr>\n",
       "      <th>ons</th>\n",
       "      <td>13.202106</td>\n",
       "    </tr>\n",
       "    <tr>\n",
       "      <th>car ons</th>\n",
       "      <td>12.900789</td>\n",
       "    </tr>\n",
       "    <tr>\n",
       "      <th>remember</th>\n",
       "      <td>11.704899</td>\n",
       "    </tr>\n",
       "    <tr>\n",
       "      <th>th</th>\n",
       "      <td>10.951843</td>\n",
       "    </tr>\n",
       "    <tr>\n",
       "      <th>animation</th>\n",
       "      <td>10.821650</td>\n",
       "    </tr>\n",
       "    <tr>\n",
       "      <th>like</th>\n",
       "      <td>10.376962</td>\n",
       "    </tr>\n",
       "    <tr>\n",
       "      <th>view</th>\n",
       "      <td>9.952902</td>\n",
       "    </tr>\n",
       "    <tr>\n",
       "      <th>poll</th>\n",
       "      <td>9.668625</td>\n",
       "    </tr>\n",
       "    <tr>\n",
       "      <th>view poll</th>\n",
       "      <td>8.962838</td>\n",
       "    </tr>\n",
       "    <tr>\n",
       "      <th>know</th>\n",
       "      <td>8.690117</td>\n",
       "    </tr>\n",
       "    <tr>\n",
       "      <th>new</th>\n",
       "      <td>8.439281</td>\n",
       "    </tr>\n",
       "    <tr>\n",
       "      <th>watch</th>\n",
       "      <td>7.704057</td>\n",
       "    </tr>\n",
       "    <tr>\n",
       "      <th>draw</th>\n",
       "      <td>7.473184</td>\n",
       "    </tr>\n",
       "    <tr>\n",
       "      <th>character</th>\n",
       "      <td>7.353767</td>\n",
       "    </tr>\n",
       "    <tr>\n",
       "      <th>universe</th>\n",
       "      <td>6.679063</td>\n",
       "    </tr>\n",
       "    <tr>\n",
       "      <th>best</th>\n",
       "      <td>6.612670</td>\n",
       "    </tr>\n",
       "    <tr>\n",
       "      <th>animated</th>\n",
       "      <td>6.531000</td>\n",
       "    </tr>\n",
       "    <tr>\n",
       "      <th>just</th>\n",
       "      <td>6.501386</td>\n",
       "    </tr>\n",
       "    <tr>\n",
       "      <th>episode</th>\n",
       "      <td>6.372196</td>\n",
       "    </tr>\n",
       "  </tbody>\n",
       "</table>\n",
       "</div>"
      ],
      "text/plain": [
       "           weighted_count\n",
       "car             35.265886\n",
       "ons             13.202106\n",
       "car ons         12.900789\n",
       "remember        11.704899\n",
       "th              10.951843\n",
       "animation       10.821650\n",
       "like            10.376962\n",
       "view             9.952902\n",
       "poll             9.668625\n",
       "view poll        8.962838\n",
       "know             8.690117\n",
       "new              8.439281\n",
       "watch            7.704057\n",
       "draw             7.473184\n",
       "character        7.353767\n",
       "universe         6.679063\n",
       "best             6.612670\n",
       "animated         6.531000\n",
       "just             6.501386\n",
       "episode          6.372196"
      ]
     },
     "execution_count": 50,
     "metadata": {},
     "output_type": "execute_result"
    }
   ],
   "source": [
    "nb_counts_cartoon.sort_values(by=['weighted_count'], ascending=False).head(20)\n"
   ]
  },
  {
   "cell_type": "code",
   "execution_count": 51,
   "id": "5206e1dc",
   "metadata": {},
   "outputs": [],
   "source": [
    "# define function to create confusion matrix and classification report\n",
    "def make_cm(model, X, y, names):\n",
    "    \n",
    "    #get predictions from the model and plot the against the actual values in a confusion matrix\n",
    "    y_pred = model.predict(X)\n",
    "    cm = confusion_matrix(y, y_pred)\n",
    "    \n",
    "    # convert confusion matrix to dataframe\n",
    "    cols = ['pred_' + c for c in names]\n",
    "    dfcm = pd.DataFrame(cm, columns=cols, index=names)\n",
    "    \n",
    "    # print confusion matrix and classification report\n",
    "    print(dfcm)\n",
    "    print(\"--------------------------------------------------------------------------------\")\n",
    "    print(classification_report(y, y_pred))\n",
    "    \n",
    "    # credit adi brohstein for the basis for this code\n"
   ]
  },
  {
   "cell_type": "code",
   "execution_count": 52,
   "id": "bd7ca6e2",
   "metadata": {},
   "outputs": [
    {
     "name": "stdout",
     "output_type": "stream",
     "text": [
      "           pred_r/anime  pred_r/cartoon\n",
      "r/anime             230              15\n",
      "r/cartoon            29             154\n",
      "--------------------------------------------------------------------------------\n",
      "              precision    recall  f1-score   support\n",
      "\n",
      "           0       0.89      0.94      0.91       245\n",
      "           1       0.91      0.84      0.88       183\n",
      "\n",
      "    accuracy                           0.90       428\n",
      "   macro avg       0.90      0.89      0.89       428\n",
      "weighted avg       0.90      0.90      0.90       428\n",
      "\n"
     ]
    }
   ],
   "source": [
    "# run confusion matrix function\n",
    "make_cm(tfidf_nb, test_raw, y_test, ['r/anime', 'r/cartoon'])"
   ]
  },
  {
   "cell_type": "code",
   "execution_count": 53,
   "id": "6e68c322",
   "metadata": {
    "scrolled": true
   },
   "outputs": [
    {
     "name": "stdout",
     "output_type": "stream",
     "text": [
      "Confusion matrix, without normalization\n",
      "[[230  15]\n",
      " [ 29 154]]\n"
     ]
    },
    {
     "data": {
      "image/png": "[encoded data removed]",
      "text/plain": [
       "<Figure size 432x288 with 2 Axes>"
      ]
     },
     "metadata": {
      "needs_background": "light"
     },
     "output_type": "display_data"
    }
   ],
   "source": [
    "\n",
    "# set decimal places for numpy functions\n",
    "np.set_printoptions(precision=2)\n",
    "\n",
    "#define class names\n",
    "class_names=np.array(['r/Cartoon', 'r/Anime'])\n",
    "\n",
    "# generate predictions\n",
    "y_pred = tfidf_nb.predict(test_raw)\n",
    "\n",
    "# Plot non-normalized confusion matrix\n",
    "plot_confusion_matrix(y_test, y_pred, classes=class_names,\n",
    "                      title='Confusion matrix, without normalization',\n",
    "                     cmap='YlGnBu')\n",
    "\n",
    "\n",
    "plt.show();"
   ]
  },
  {
   "cell_type": "code",
   "execution_count": 54,
   "id": "ad549477",
   "metadata": {},
   "outputs": [],
   "source": [
    "# use the parameters found in the gridsearch\n",
    "cvec = CountVectorizer(stop_words='english', ngram_range=(1, 2), max_features=20000, max_df=0.60)"
   ]
  },
  {
   "cell_type": "code",
   "execution_count": 55,
   "id": "b235ace7",
   "metadata": {
    "scrolled": true
   },
   "outputs": [
    {
     "data": {
      "text/plain": [
       "MultinomialNB()"
      ]
     },
     "execution_count": 55,
     "metadata": {},
     "output_type": "execute_result"
    }
   ],
   "source": [
    "# run the Count Vectorized model with the optimal hyperparameters\n",
    "cvec = CountVectorizer(stop_words='english', ngram_range=(1, 2), max_features=20000, max_df=0.60)\n",
    "train_raw = cvec.fit_transform(X_train)\n",
    "train_df = pd.DataFrame(train_raw.toarray(), columns=cvec.get_feature_names())\n",
    "\n",
    "test_raw = cvec.transform(X_test)\n",
    "test_df = pd.DataFrame(test_raw.toarray(), columns=cvec.get_feature_names())\n",
    "\n",
    "train_df.fillna(0, inplace=True)\n",
    "test_df.fillna(0, inplace=True)\n",
    "\n",
    "# fit the multinomail NB model\n",
    "cvec_nb = MultinomialNB()\n",
    "cvec_nb.fit(train_df, y_train)"
   ]
  },
  {
   "cell_type": "code",
   "execution_count": 56,
   "id": "16235520",
   "metadata": {},
   "outputs": [
    {
     "data": {
      "text/plain": [
       "MultinomialNB()"
      ]
     },
     "execution_count": 56,
     "metadata": {},
     "output_type": "execute_result"
    }
   ],
   "source": [
    "vec_nb = MultinomialNB()\n",
    "cvec_nb.fit(train_df, y_train)"
   ]
  },
  {
   "cell_type": "code",
   "execution_count": 57,
   "id": "55c10547",
   "metadata": {},
   "outputs": [
    {
     "data": {
      "text/plain": [
       "0.8855140186915887"
      ]
     },
     "execution_count": 57,
     "metadata": {},
     "output_type": "execute_result"
    }
   ],
   "source": [
    "# score \n",
    "cvec_nb.score(test_raw, y_test)"
   ]
  },
  {
   "cell_type": "code",
   "execution_count": 58,
   "id": "ecbe852d",
   "metadata": {},
   "outputs": [],
   "source": [
    "# create dataframes for plotting NB results\n",
    "# note that exponential is taken from the log probability to get the actual probability for each feature\n",
    "nb_feat_importance_cartoon = pd.DataFrame(np.exp(cvec_nb.feature_log_prob_[0]), train_df.columns, columns=['probability'])\n",
    "nb_feat_importance_anime = pd.DataFrame(np.exp(cvec_nb.feature_log_prob_[1]), train_df.columns, columns=['probability'])"
   ]
  },
  {
   "cell_type": "code",
   "execution_count": 59,
   "id": "fbb208cd",
   "metadata": {
    "scrolled": true
   },
   "outputs": [
    {
     "data": {
      "image/png": "[encoded data removed]",
      "text/plain": [
       "<Figure size 1440x720 with 1 Axes>"
      ]
     },
     "metadata": {
      "needs_background": "light"
     },
     "output_type": "display_data"
    }
   ],
   "source": [
    "# plot the results from the NB dataframes\n",
    "plt.figure(figsize=(20,10))\n",
    "nfl = nb_feat_importance_nfl.sort_values('probability', ascending=False).head(10)\n",
    "nba = nb_feat_importance_nba.sort_values('probability', ascending=False).head(10)\n",
    "\n",
    "plt.barh(nfl.index, nfl['probability'], color='darkblue')\n",
    "plt.barh(nba.index, nba['probability'], color='darkorange')\n",
    "plt.yticks(size=16)\n",
    "\n",
    "plt.title('Top 10 Features: r/anime vs. r/cartoons', fontsize=30)\n",
    "plt.xlabel('Probability', fontsize=20)\n",
    "plt.ylabel('Feature', fontsize=20);"
   ]
  },
  {
   "cell_type": "code",
   "execution_count": 60,
   "id": "d8f1d1f0",
   "metadata": {
    "scrolled": true
   },
   "outputs": [
    {
     "name": "stdout",
     "output_type": "stream",
     "text": [
      "           pred_r/cartoon  pred_r/anime\n",
      "r/cartoon             207            38\n",
      "r/anime                11           172\n",
      "--------------------------------------------------------------------------------\n",
      "              precision    recall  f1-score   support\n",
      "\n",
      "           0       0.95      0.84      0.89       245\n",
      "           1       0.82      0.94      0.88       183\n",
      "\n",
      "    accuracy                           0.89       428\n",
      "   macro avg       0.88      0.89      0.88       428\n",
      "weighted avg       0.89      0.89      0.89       428\n",
      "\n"
     ]
    }
   ],
   "source": [
    "make_cm(cvec_nb, test_raw, y_test, ['r/cartoon', 'r/anime'])"
   ]
  },
  {
   "cell_type": "code",
   "execution_count": 61,
   "id": "1ff7bf15",
   "metadata": {},
   "outputs": [
    {
     "name": "stdout",
     "output_type": "stream",
     "text": [
      "Important words in classifying posts for r/cartoon\n",
      "r/cartoon 0.009642521166509871 car\n",
      "r/cartoon 0.0042594334692170974 like\n",
      "r/cartoon 0.003580014633636457 remember\n",
      "r/cartoon 0.003370962684227028 th\n",
      "r/cartoon 0.003135779241141421 ons\n",
      "r/cartoon 0.002952858785408173 car ons\n",
      "r/cartoon 0.002534754886589316 watch\n",
      "r/cartoon 0.00209051949409428 know\n",
      "r/cartoon 0.0019075990383610312 just\n",
      "r/cartoon 0.001698547088951603 help\n",
      "r/cartoon 0.0016724155952754242 shows\n",
      "r/cartoon 0.0016462841015992462 im\n",
      "r/cartoon 0.0016462841015992462 amp\n",
      "r/cartoon 0.0015678896205707103 episode\n",
      "r/cartoon 0.0014894951395421755 time\n",
      "r/cartoon 0.0013327061774851046 character\n",
      "r/cartoon 0.0013065746838089262 characters\n",
      "r/cartoon 0.0012804431901327475 new\n",
      "r/cartoon 0.0012543116964565683 series\n",
      "r/cartoon 0.0012281802027803899 look\n",
      " \n",
      " \n",
      "Important words in classifying posts for r/anime\n",
      "r/anime 0.01275177780259876 anime\n",
      "r/anime 0.006143192226069473 watch\n",
      "r/anime 0.00595703488588555 like\n",
      "r/anime 0.004244387356193456 just\n",
      "r/anime 0.00333221638929223 th\n",
      "r/anime 0.0031088275810715227 episode\n",
      "r/anime 0.002755128634722066 good\n",
      "r/anime 0.0024758926244461818 really\n",
      "r/anime 0.0024758926244461818 know\n",
      "r/anime 0.0023455824863174357 im\n",
      "r/anime 0.0019546520719311957 time\n",
      "r/anime 0.0019360363379128038 watched\n",
      "r/anime 0.0018801891358576274 amp\n",
      "r/anime 0.0018615734018392355 look\n",
      "r/anime 0.0018429576678208421 someth\n",
      "r/anime 0.0015078744554897806 people\n",
      "r/anime 0.0015078744554897806 characters\n",
      "r/anime 0.001433411519416211 new\n",
      "r/anime 0.0014147957853978183 ry\n",
      "r/anime 0.0013961800513794256 want\n"
     ]
    }
   ],
   "source": [
    "nb_features(cvec, cvec_nb, class_labels=['r/cartoon', 'r/anime'])"
   ]
  }
 ],
 "metadata": {
  "kernelspec": {
   "display_name": "Python 3",
   "language": "python",
   "name": "python3"
  },
  "language_info": {
   "codemirror_mode": {
    "name": "ipython",
    "version": 3
   },
   "file_extension": ".py",
   "mimetype": "text/x-python",
   "name": "python",
   "nbconvert_exporter": "python",
   "pygments_lexer": "ipython3",
   "version": "3.8.5"
  }
 },
 "nbformat": 4,
 "nbformat_minor": 5
}
